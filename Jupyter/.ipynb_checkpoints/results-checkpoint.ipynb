{
 "cells": [
  {
   "cell_type": "markdown",
   "id": "e2c57d77",
   "metadata": {},
   "source": [
    "# Determining the Effectiveness of the High Speed Test Track testing for the determination of accelerometer error coefficients. \n",
    "### By Sean Abrahamson \n",
    "\n",
    "This is a jupyter note book walking through the code for simulating an the perfomrnace of a single accelerometer output going down the Holloman High Speed Test Track and then using a the 746 TS Reference Position Vector to computer the error coefficients using least squares. "
   ]
  },
  {
   "cell_type": "markdown",
   "id": "9db2e229",
   "metadata": {},
   "source": [
    "### Import necessary libaries and functions from custom functions and classes from other jupiter notebooks."
   ]
  },
  {
   "cell_type": "code",
   "execution_count": 1,
   "id": "b91f25f0",
   "metadata": {},
   "outputs": [],
   "source": [
    "import os.path\n",
    "import pandas as pd\n",
    "import numpy as np \n",
    "import plotly.graph_objects as go\n",
    "import pickle\n",
    "\n",
    "# Import other Jupyter Notebooks\n",
    "%run Thesis_Main.ipynb"
   ]
  },
  {
   "cell_type": "markdown",
   "id": "46ff8b71",
   "metadata": {},
   "source": [
    "### Set initial coefficients and parameters for script\n",
    "\n",
    "Set the initial configuration parameters and logic that drives how results are computed. "
   ]
  },
  {
   "cell_type": "code",
   "execution_count": 2,
   "id": "a3956676",
   "metadata": {},
   "outputs": [],
   "source": [
    "############################################################\n",
    "#%% Initial Configuration Parameters\n",
    "############################################################\n",
    "\n",
    "# Set value for g\n",
    "\n",
    "g = 9.791807  \n",
    "\n",
    "\n",
    "# Set parameters for error added to Reference Position Vector\n",
    "\n",
    "sigmaRPV = 0.001        # Standard deviation of Random noise centered at zero added to downtrack distance (meters)\n",
    "tauRPV =  0            # Time Lag Error (seconds)\n",
    "biasRPV = 0            # Bias error in RPV (meters) \n",
    "\n",
    "# Set number of Monte Carlo Runs\n",
    "\n",
    "MCnum = 100\n",
    "\n",
    "\n",
    "# Set custom coefficients for Accelerometer error model. Updates accelerometer coefficient error model \n",
    "# dictionary if ChangeDefaultCoeff is set to True.\n",
    "\n",
    "CoeffDict = {'K_0': 1}\n",
    "\n",
    "# Used to determine how many coefficients to calculate.\n",
    "\n",
    "N_model_start = 0     #  0 =  K_1 (Scale Factor), 1 = K_0 (Bias), 2 = K_2, etc. \n",
    "N_model_end = 5      #  0 = K_1 (Scale Factor), 1 = K_0 (Bias), 2 = K_2, etc.\n",
    "\n",
    "\n",
    "# Clean up Model indicies and define Error Coefficient Names\n",
    "N_model = [0,0]\n",
    "# Fix indexing numbers\n",
    "N_model[0] = N_model_start  ### REVIEW THIS\n",
    "N_model[1]= N_model_end + 1\n",
    "\n",
    "# Definition of corresponding coefficient names that will be computed based on above pararmeters\n",
    "ModelList = ['K_1', 'K_0', 'K_2', 'K_3','K_4','K_5']\n",
    "\n",
    "\n",
    "############################################################\n",
    "#%% Initial Configuration Logic\n",
    "############################################################\n",
    "\n",
    "# If set to True, accelerometer model error will be updated with CoeffDict values set in intial parameters.\n",
    "\n",
    "changeDefaultCoeff = False\n",
    "\n",
    "\n",
    "# Generate New Trajectory. If set to True new Trajectory will be created and saved to .pkl file from EGI data.\n",
    "\n",
    "generateNewTrajectory = True\n",
    "\n",
    "\n",
    "# Generate New RPV. If set to True a new RPV will be generated and saved to .pkl file. If set to False, code will \n",
    "# to make sure and RPV with the parameters set in the intial configuration is available. If not availble a new RPV \n",
    "# be generated. \n",
    "\n",
    "generateNewRPV = True\n",
    "\n",
    "\n",
    "# LeastSquaresMethod sets the method used for Least Squares Regression analaysis. Default is set to 'LongHand'\n",
    "#  - 'LongHand':  Computes the least squares using numpy matrix multiplication. This is the only method that works for \n",
    "#                 Weighted Least Squares with correleated off diagonal values in the weighting matrix.\n",
    "#  - 'Numpy':     Uses the least squares function from the numpy.linalg library. This method should not be used if using any sort of weighted least squares method.\n",
    "#  - 'SciKit':    Computes the least squares regression using the SciKit library. This does not use any correlated off diagonal values. \n",
    "\n",
    "LeastSquaresMethod = 'LongHand'\n",
    "\n",
    "# If set to True the least squares regression method for determining error coefficients will use a \n",
    "# Weighted Least Squares Method.\n",
    "\n",
    "WLS = True\n",
    "\n",
    "\n",
    "# If set to true the model will perform regression analysis for each term indiviually as well as the full model as defined above or look at each individual coefficient.\n",
    "\n",
    "individualCoeffAnalysis = False\n",
    "\n",
    "# Set start and stop time  in seconds to perform regression analysis on.\n",
    "startStopTime = [0, -1]"
   ]
  },
  {
   "cell_type": "markdown",
   "id": "0fed45ae",
   "metadata": {},
   "source": [
    "### Generate Reference Trajectory. \n",
    "\n",
    "This calles the function generateReferenceTrajectory if parameter is set to \"True\". This function takes data collected from an Embedded GPS/INS that was mounted on one of the high speed test track tests. It then smooths the data to create a \"Reference Trajectory\" for the sled that is used in creating the simulated Accelerometer and Reference Position Vector values. The new trajectory is saved off as a .pkl file in the current directory and so this function is only needed to be run if a new trajectory needs to be created. Once created the following cell will just make sure a referenceTrajectory has been imported. See \"ThesisMain.jpynb\" for details on function."
   ]
  },
  {
   "cell_type": "code",
   "execution_count": 3,
   "id": "86e1a70a",
   "metadata": {},
   "outputs": [
    {
     "name": "stdout",
     "output_type": "stream",
     "text": [
      "Developing Reference Trajectory\n",
      "Trimming data to start/stop time determined visually...\n",
      "Setting initial acceleration to 0 until launch...\n",
      "Setting final acceleration at 0...\n",
      "Setting final velocity at 0...\n"
     ]
    },
    {
     "name": "stderr",
     "output_type": "stream",
     "text": [
      "/var/folders/q1/b08x7v8d7vdfddvg49_v4hq00000gn/T/ipykernel_21260/2248493182.py:39: SettingWithCopyWarning:\n",
      "\n",
      "\n",
      "A value is trying to be set on a copy of a slice from a DataFrame.\n",
      "Try using .loc[row_indexer,col_indexer] = value instead\n",
      "\n",
      "See the caveats in the documentation: https://pandas.pydata.org/pandas-docs/stable/user_guide/indexing.html#returning-a-view-versus-a-copy\n",
      "\n",
      "/var/folders/q1/b08x7v8d7vdfddvg49_v4hq00000gn/T/ipykernel_21260/2248493182.py:46: SettingWithCopyWarning:\n",
      "\n",
      "\n",
      "A value is trying to be set on a copy of a slice from a DataFrame.\n",
      "Try using .loc[row_indexer,col_indexer] = value instead\n",
      "\n",
      "See the caveats in the documentation: https://pandas.pydata.org/pandas-docs/stable/user_guide/indexing.html#returning-a-view-versus-a-copy\n",
      "\n"
     ]
    }
   ],
   "source": [
    "#%% Generate or import trajectory\n",
    "\n",
    "if generateNewTrajectory == True:      \n",
    "    generateReferenceTrajectory()\n",
    "    \n",
    "# Import Reference Trajectory\n",
    "referenceTrajectory = pd.read_pickle(\"./referenceTrajectory.pkl\")"
   ]
  },
  {
   "cell_type": "markdown",
   "id": "6dda5a70",
   "metadata": {},
   "source": [
    "### Generate Reference Position Vector \n",
    "\n",
    "This calles the function generateNewRPV if the parameter value is set to true OR if an RPV cannot be found with specific parameters set in the configuration. If generateNewRPV() is run it will create a new RPV with the parameters set in the configuration and save it as a .pkl file. The file is then read in and stored to trackRPV. See \"ThesisMain.jpynb\" for details on function."
   ]
  },
  {
   "cell_type": "code",
   "execution_count": 4,
   "id": "b4804cfd",
   "metadata": {},
   "outputs": [],
   "source": [
    "#%% Generate track reference position vectory\n",
    "\n",
    "# If generateNewRPV is set to False, check if an RPV exists with the specified parameters. If it does not\n",
    "# then set generateNewRPV to True so tha generateNewRPV runs anyways.\n",
    "if generateNewRPV == False:   \n",
    "    generateNewRPV = not os.path.isfile(f\"./RPVs/trackRPV_sig{sigmaRPV}_tau{tauRPV}_bias{biasRPV}.pkl\")\n",
    "\n",
    "if generateNewRPV == True:    \n",
    "    generateTrackRPV(referenceTrajectory, sigmaRPV, tauRPV, biasRPV)\n",
    "    \n",
    "# Import trackRPV pickle file that matches configuration parameters\n",
    "trackRPV = pd.read_pickle(f\"./RPVs/trackRPV_sig{sigmaRPV}_tau{tauRPV}_bias{biasRPV}.pkl\")"
   ]
  },
  {
   "cell_type": "markdown",
   "id": "87ba87f7",
   "metadata": {},
   "source": [
    "### Generate Simulated Accelerometer Values\n",
    "\n",
    "The AccSim function creates an Accelerometer object that has and Error Model attribute that defines the error coefficients associated with that Accelerometer. Then it simulates the accelerometer with that error model going down the track according to the referenceTrajectory. "
   ]
  },
  {
   "cell_type": "code",
   "execution_count": 5,
   "id": "73b033e4",
   "metadata": {},
   "outputs": [],
   "source": [
    "#%% Generate Simulated Accelerometer for full model\n",
    "sensorSim, AccelObj = AccelSim(referenceTrajectory, N_model, changeDefaultCoeff, CoeffDict, g)"
   ]
  },
  {
   "cell_type": "markdown",
   "id": "85e976d4",
   "metadata": {},
   "source": [
    "### Perform Regression Analysis\n",
    "\n",
    "The below cell calls the functions necessary to run the Least Squares Regression analysis to determine the error coefficients of the Accelerometer Error model and compare them to the actual values set in the Accel Object. "
   ]
  },
  {
   "cell_type": "code",
   "execution_count": 7,
   "id": "3e287cec",
   "metadata": {},
   "outputs": [
    {
     "ename": "ValueError",
     "evalue": "shapes (7,4878) and (4877,4877) not aligned: 4878 (dim 1) != 4877 (dim 0)",
     "output_type": "error",
     "traceback": [
      "\u001b[0;31m---------------------------------------------------------------------------\u001b[0m",
      "\u001b[0;31mValueError\u001b[0m                                Traceback (most recent call last)",
      "Cell \u001b[0;32mIn[7], line 2\u001b[0m\n\u001b[1;32m      1\u001b[0m \u001b[38;5;66;03m#%% Perform Regression Analysis for full model\u001b[39;00m\n\u001b[0;32m----> 2\u001b[0m coefficientDF, Error, cov_A, A, Ve_x, W, LeastSquaresMethod \u001b[38;5;241m=\u001b[39m RegressionAnalysis(referenceTrajectory, trackRPV, AccelObj, sensorSim, N_model, g, sigmaRPV, WLSoption \u001b[38;5;241m=\u001b[39m WLS)\n\u001b[1;32m      3\u001b[0m results_list1 \u001b[38;5;241m=\u001b[39m {\u001b[38;5;124m'\u001b[39m\u001b[38;5;124mError\u001b[39m\u001b[38;5;124m'\u001b[39m: Error, \u001b[38;5;124m'\u001b[39m\u001b[38;5;124mAccelObj\u001b[39m\u001b[38;5;124m'\u001b[39m:AccelObj, \u001b[38;5;124m'\u001b[39m\u001b[38;5;124msensorSim\u001b[39m\u001b[38;5;124m'\u001b[39m:sensorSim, \u001b[38;5;124m'\u001b[39m\u001b[38;5;124mcoefficientDF\u001b[39m\u001b[38;5;124m'\u001b[39m:coefficientDF, \u001b[38;5;124m'\u001b[39m\u001b[38;5;124mcov_A\u001b[39m\u001b[38;5;124m'\u001b[39m:cov_A, \u001b[38;5;124m'\u001b[39m\u001b[38;5;124mA\u001b[39m\u001b[38;5;124m'\u001b[39m:A, \u001b[38;5;124m'\u001b[39m\u001b[38;5;124mVe_x\u001b[39m\u001b[38;5;124m'\u001b[39m:Ve_x, \u001b[38;5;124m'\u001b[39m\u001b[38;5;124mW\u001b[39m\u001b[38;5;124m'\u001b[39m:W, \u001b[38;5;124m'\u001b[39m\u001b[38;5;124mLeastSquaresMethod\u001b[39m\u001b[38;5;124m'\u001b[39m:LeastSquaresMethod}\n\u001b[1;32m      5\u001b[0m Results \u001b[38;5;241m=\u001b[39m {}\n",
      "File \u001b[0;32m/var/folders/q1/b08x7v8d7vdfddvg49_v4hq00000gn/T/ipykernel_21260/3042870636.py:126\u001b[0m, in \u001b[0;36mRegressionAnalysis\u001b[0;34m(referenceTrajectory, trackRPV, AccelObj, sensorSim, N_model, g, sigmaRPV, startStopTime, saveToPickel, WLSoption, LeastSquaresMethod, computeCovariance)\u001b[0m\n\u001b[1;32m    119\u001b[0m \u001b[38;5;66;03m# Compute the cholesky of w (banded). Then do the inverse. \u001b[39;00m\n\u001b[1;32m    120\u001b[0m \n\u001b[1;32m    121\u001b[0m \u001b[38;5;66;03m################################################################################################\u001b[39;00m\n\u001b[1;32m    122\u001b[0m \u001b[38;5;66;03m# Compute Covariance Matrix\u001b[39;00m\n\u001b[1;32m    123\u001b[0m \u001b[38;5;66;03m################################################################################################    \u001b[39;00m\n\u001b[1;32m    124\u001b[0m \u001b[38;5;66;03m# Compute Covariance  \u001b[39;00m\n\u001b[1;32m    125\u001b[0m \u001b[38;5;28;01mif\u001b[39;00m computeCovariance \u001b[38;5;241m==\u001b[39m \u001b[38;5;28;01mTrue\u001b[39;00m:\n\u001b[0;32m--> 126\u001b[0m     covariance_A \u001b[38;5;241m=\u001b[39m np\u001b[38;5;241m.\u001b[39mlinalg\u001b[38;5;241m.\u001b[39minv(At\u001b[38;5;241m.\u001b[39mdot(W)\u001b[38;5;241m.\u001b[39mdot(A))\n\u001b[1;32m    127\u001b[0m \u001b[38;5;28;01melse\u001b[39;00m:\n\u001b[1;32m    128\u001b[0m     covariance_A \u001b[38;5;241m=\u001b[39m \u001b[38;5;124m'\u001b[39m\u001b[38;5;124mCovariance Not Computed\u001b[39m\u001b[38;5;124m'\u001b[39m\n",
      "\u001b[0;31mValueError\u001b[0m: shapes (7,4878) and (4877,4877) not aligned: 4878 (dim 1) != 4877 (dim 0)"
     ]
    }
   ],
   "source": [
    "#%% Perform Regression Analysis for full model\n",
    "coefficientDF, Error, cov_A, A, Ve_x, W, LeastSquaresMethod = RegressionAnalysis(referenceTrajectory, trackRPV, AccelObj, sensorSim, N_model, g, sigmaRPV, WLSoption = WLS)\n",
    "results_list1 = {'Error': Error, 'AccelObj':AccelObj, 'sensorSim':sensorSim, 'coefficientDF':coefficientDF, 'cov_A':cov_A, 'A':A, 'Ve_x':Ve_x, 'W':W, 'LeastSquaresMethod':LeastSquaresMethod}\n",
    "\n",
    "Results = {}\n",
    "Results[f\"Coeff: {ModelList[N_model[0]]}-{ModelList[N_model[1]-1]}\"] = results_list1\n",
    "\n",
    "\n",
    "#%% perform Regression Analysis for individual coefficients\n",
    "\n",
    "if individualCoeffAnalysis == True:\n",
    "    for n in range(N_model[1]):\n",
    "\n",
    "        N_model[0] = n\n",
    "        N_model[1] = n+1\n",
    "        \n",
    "        sensorSim, AccelObj = AccelSim(referenceTrajectory, N_model, changeDefaultCoeff, CoeffDict, g)\n",
    "    \n",
    "        coefficientDF, Error, cov_A, A, Ve_x, W, LeastSquaresMethod = RegressionAnalysis(referenceTrajectory, trackRPV, AccelObj, sensorSim, N_model, g, sigmaRPV, WLSoption = WLS)\n",
    "    \n",
    "        results_list1 = {'Error': Error, 'AccelObj':AccelObj, 'sensorSim':sensorSim, 'coefficientDF':coefficientDF, 'cov_A':cov_A, 'A':A, 'Ve_x':Ve_x, 'W':W, 'LeastSquaresMethod':LeastSquaresMethod}\n",
    "    \n",
    "        Results[f\"Coeff: {ModelList[N_model[0]]}-{ModelList[N_model[1]-1]}\"] = results_list1"
   ]
  },
  {
   "cell_type": "code",
   "execution_count": null,
   "id": "6f3008f6",
   "metadata": {},
   "outputs": [],
   "source": [
    "\n",
    "#%% Results Invesigation\n",
    "# for key in Results:\n",
    "    \n",
    "#     print(key)\n",
    "#     print(Results[key]['coefficientDF'])\n",
    "#     print('\\n')\n",
    "#     LeastSquaresMethod = Results[key]['LeastSquaresMethod']\n",
    "#     Results[key]['coefficientDF'].to_csv('Results/' + key + f'_SigmaRPV-{sigmaRPV}' + f'_WLS-{WLS}_corr'+ f'_{LeastSquaresMethod}'+'.csv', float_format='%.20f')    \n",
    "\n",
    "#    # Results[key][3].to_csv('Results/' + key + f'_SigmaRPV-{sigmaRPV}' + f'_WLS-{WLS}'+ f'_{Results[key][8]}'+'.csv', float_format='%.20f')    \n",
    "\n",
    "# print(Results['Coeff: K_1-K_5']['cov_A'])\n",
    "# covFilePath = 'Results/' + 'COV_Coeff: K_1-K_5' + f'_SigmaRPV-{sigmaRPV}'+f'_cov_WLS-{WLS}'+'.csv'\n",
    "# np.savetxt(covFilePath, Results['Coeff: K_1-K_5']['cov_A'], delimiter=\",\")\n",
    "\n",
    "\n",
    "# with open('Results/Results'+f'_SigmaRPV-{sigmaRPV}'+f'_WLS-{WLS}'+'.pkl', 'wb') as handle:\n",
    "#     pickle.dump(Results, handle, protocol=pickle.HIGHEST_PROTOCOL)\n",
    "    "
   ]
  }
 ],
 "metadata": {
  "kernelspec": {
   "display_name": "Python 3 (ipykernel)",
   "language": "python",
   "name": "python3"
  },
  "language_info": {
   "codemirror_mode": {
    "name": "ipython",
    "version": 3
   },
   "file_extension": ".py",
   "mimetype": "text/x-python",
   "name": "python",
   "nbconvert_exporter": "python",
   "pygments_lexer": "ipython3",
   "version": "3.11.4"
  }
 },
 "nbformat": 4,
 "nbformat_minor": 5
}
